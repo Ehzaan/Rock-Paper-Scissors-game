{
 "cells": [
  {
   "cell_type": "code",
   "execution_count": 1,
   "id": "f2968c2f",
   "metadata": {},
   "outputs": [
    {
     "name": "stdout",
     "output_type": "stream",
     "text": [
      "lets play a game\n",
      "enter a value or enter 'Q' to quit:  paper\n",
      "computer takes scissors\n",
      "computer won\n",
      "enter a value or enter 'Q' to quit:  rock\n",
      "computer takes scissors\n",
      "user won\n",
      "enter a value or enter 'Q' to quit:  rock\n",
      "computer takes scissors\n",
      "user won\n",
      "enter a value or enter 'Q' to quit:  rock\n",
      "computer takes scissors\n",
      "user won\n",
      "enter a value or enter 'Q' to quit:  rock\n",
      "computer takes scissors\n",
      "user won\n",
      "user wins = 4\n",
      "computer wins = 1\n",
      "Okay Goodbye!!!\n"
     ]
    }
   ],
   "source": [
    "import random\n",
    "print(\"lets play a game\")\n",
    "list1 = [\"paper\",\"rock\",\"scissors\"]\n",
    "a = random.randint(0,2)\n",
    "user_wins = 0\n",
    "computer_wins = 0\n",
    "turns = 0\n",
    "def check_user():\n",
    "    if user_input not in  list1:\n",
    "        print(\"pls try again\")\n",
    "        return False\n",
    "    else:\n",
    "        return True\n",
    "while turns < 5:\n",
    "    user_input = input(\"enter a value or enter 'Q' to quit:  \")\n",
    "    user_input = user_input.lower()\n",
    "    if user_input.lower() == \"q\":\n",
    "        break\n",
    "    if check_user() == False:\n",
    "        continue\n",
    "    computer_input = list1[a]\n",
    "    print(\"computer takes {}\".format(computer_input))\n",
    "    if user_input == \"rock\" and computer_input == \"scissors\":\n",
    "        print(\"user won\")\n",
    "        user_wins = user_wins + 1\n",
    "        turns = turns + 1\n",
    "        continue\n",
    "    elif user_input == \"scissors\" and computer_input == \"paper\":\n",
    "        print(\"user won\")\n",
    "        user_wins = user_wins + 1\n",
    "        turns = turns + 1\n",
    "        continue\n",
    "    elif user_input == \"paper\" and computer_input == \"rock\":\n",
    "        print(\"user won\")\n",
    "        user_wins = user_wins + 1\n",
    "        turns = turns + 1\n",
    "        continue\n",
    "    elif user_input == computer_input:\n",
    "        print(\"nobody won\")\n",
    "        continue\n",
    "    else:\n",
    "        computer_wins = computer_wins +1\n",
    "        turns = turns +1\n",
    "        print(\"computer won\")\n",
    "        continue\n",
    "        \n",
    "print(\"user wins = {}\".format(user_wins))\n",
    "print(\"computer wins = {}\".format(computer_wins))\n",
    "print(\"Okay Goodbye!!!\")\n",
    "        \n",
    "    \n",
    "     \n",
    "    "
   ]
  }
 ],
 "metadata": {
  "kernelspec": {
   "display_name": "Python 3 (ipykernel)",
   "language": "python",
   "name": "python3"
  },
  "language_info": {
   "codemirror_mode": {
    "name": "ipython",
    "version": 3
   },
   "file_extension": ".py",
   "mimetype": "text/x-python",
   "name": "python",
   "nbconvert_exporter": "python",
   "pygments_lexer": "ipython3",
   "version": "3.11.5"
  }
 },
 "nbformat": 4,
 "nbformat_minor": 5
}
